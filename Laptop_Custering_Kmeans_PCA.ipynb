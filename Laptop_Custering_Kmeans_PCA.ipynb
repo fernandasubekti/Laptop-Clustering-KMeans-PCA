{
 "cells": [
  {
   "cell_type": "markdown",
   "id": "112a991a",
   "metadata": {
    "papermill": {
     "duration": 0.009414,
     "end_time": "2024-03-10T15:22:26.217017",
     "exception": false,
     "start_time": "2024-03-10T15:22:26.207603",
     "status": "completed"
    },
    "tags": []
   },
   "source": [
    "# Import the Data"
   ]
  },
  {
   "cell_type": "code",
   "execution_count": 1,
   "id": "0ad99004",
   "metadata": {
    "_cell_guid": "b1076dfc-b9ad-4769-8c92-a6c4dae69d19",
    "_uuid": "8f2839f25d086af736a60e9eeb907d3b93b6e0e5",
    "execution": {
     "iopub.execute_input": "2024-03-10T15:22:26.237225Z",
     "iopub.status.busy": "2024-03-10T15:22:26.236465Z",
     "iopub.status.idle": "2024-03-10T15:22:29.311263Z",
     "shell.execute_reply": "2024-03-10T15:22:29.310002Z"
    },
    "papermill": {
     "duration": 3.08886,
     "end_time": "2024-03-10T15:22:29.314790",
     "exception": false,
     "start_time": "2024-03-10T15:22:26.225930",
     "status": "completed"
    },
    "tags": []
   },
   "outputs": [],
   "source": [
    "import pandas as pd\n",
    "import numpy as np\n",
    "import matplotlib.pyplot as plt\n",
    "from sklearn.preprocessing import StandardScaler, OneHotEncoder\n",
    "from sklearn.compose import ColumnTransformer\n",
    "from sklearn.pipeline import Pipeline\n",
    "from sklearn.cluster import KMeans\n",
    "from sklearn.decomposition import PCA\n",
    "\n",
    "import warnings\n",
    "warnings.filterwarnings(\"ignore\")"
   ]
  },
  {
   "cell_type": "code",
   "execution_count": 2,
   "id": "d1c64608",
   "metadata": {
    "execution": {
     "iopub.execute_input": "2024-03-10T15:22:29.334388Z",
     "iopub.status.busy": "2024-03-10T15:22:29.333845Z",
     "iopub.status.idle": "2024-03-10T15:22:29.405475Z",
     "shell.execute_reply": "2024-03-10T15:22:29.404183Z"
    },
    "papermill": {
     "duration": 0.085123,
     "end_time": "2024-03-10T15:22:29.408721",
     "exception": false,
     "start_time": "2024-03-10T15:22:29.323598",
     "status": "completed"
    },
    "tags": []
   },
   "outputs": [
    {
     "data": {
      "text/html": [
       "<div>\n",
       "<style scoped>\n",
       "    .dataframe tbody tr th:only-of-type {\n",
       "        vertical-align: middle;\n",
       "    }\n",
       "\n",
       "    .dataframe tbody tr th {\n",
       "        vertical-align: top;\n",
       "    }\n",
       "\n",
       "    .dataframe thead th {\n",
       "        text-align: right;\n",
       "    }\n",
       "</style>\n",
       "<table border=\"1\" class=\"dataframe\">\n",
       "  <thead>\n",
       "    <tr style=\"text-align: right;\">\n",
       "      <th></th>\n",
       "      <th>index</th>\n",
       "      <th>brand</th>\n",
       "      <th>Model</th>\n",
       "      <th>Price</th>\n",
       "      <th>Rating</th>\n",
       "      <th>processor_brand</th>\n",
       "      <th>processor_tier</th>\n",
       "      <th>num_cores</th>\n",
       "      <th>num_threads</th>\n",
       "      <th>ram_memory</th>\n",
       "      <th>...</th>\n",
       "      <th>secondary_storage_type</th>\n",
       "      <th>secondary_storage_capacity</th>\n",
       "      <th>gpu_brand</th>\n",
       "      <th>gpu_type</th>\n",
       "      <th>is_touch_screen</th>\n",
       "      <th>display_size</th>\n",
       "      <th>resolution_width</th>\n",
       "      <th>resolution_height</th>\n",
       "      <th>OS</th>\n",
       "      <th>year_of_warranty</th>\n",
       "    </tr>\n",
       "  </thead>\n",
       "  <tbody>\n",
       "    <tr>\n",
       "      <th>0</th>\n",
       "      <td>1</td>\n",
       "      <td>tecno</td>\n",
       "      <td>Tecno Megabook T1 Laptop (11th Gen Core i3/ 8G...</td>\n",
       "      <td>23990</td>\n",
       "      <td>63</td>\n",
       "      <td>intel</td>\n",
       "      <td>core i3</td>\n",
       "      <td>2</td>\n",
       "      <td>4</td>\n",
       "      <td>8</td>\n",
       "      <td>...</td>\n",
       "      <td>No secondary storage</td>\n",
       "      <td>0</td>\n",
       "      <td>intel</td>\n",
       "      <td>integrated</td>\n",
       "      <td>False</td>\n",
       "      <td>15.6</td>\n",
       "      <td>1920</td>\n",
       "      <td>1080</td>\n",
       "      <td>windows</td>\n",
       "      <td>1</td>\n",
       "    </tr>\n",
       "    <tr>\n",
       "      <th>1</th>\n",
       "      <td>2</td>\n",
       "      <td>tecno</td>\n",
       "      <td>Tecno Megabook T1 Laptop (11th Gen Core i7/ 16...</td>\n",
       "      <td>35990</td>\n",
       "      <td>67</td>\n",
       "      <td>intel</td>\n",
       "      <td>core i7</td>\n",
       "      <td>4</td>\n",
       "      <td>8</td>\n",
       "      <td>16</td>\n",
       "      <td>...</td>\n",
       "      <td>No secondary storage</td>\n",
       "      <td>0</td>\n",
       "      <td>intel</td>\n",
       "      <td>integrated</td>\n",
       "      <td>False</td>\n",
       "      <td>15.6</td>\n",
       "      <td>1920</td>\n",
       "      <td>1080</td>\n",
       "      <td>windows</td>\n",
       "      <td>1</td>\n",
       "    </tr>\n",
       "    <tr>\n",
       "      <th>2</th>\n",
       "      <td>3</td>\n",
       "      <td>hp</td>\n",
       "      <td>HP Victus 15-fb0157AX Gaming Laptop (AMD Ryzen...</td>\n",
       "      <td>51100</td>\n",
       "      <td>73</td>\n",
       "      <td>amd</td>\n",
       "      <td>ryzen 5</td>\n",
       "      <td>6</td>\n",
       "      <td>12</td>\n",
       "      <td>8</td>\n",
       "      <td>...</td>\n",
       "      <td>No secondary storage</td>\n",
       "      <td>0</td>\n",
       "      <td>amd</td>\n",
       "      <td>dedicated</td>\n",
       "      <td>False</td>\n",
       "      <td>15.6</td>\n",
       "      <td>1920</td>\n",
       "      <td>1080</td>\n",
       "      <td>windows</td>\n",
       "      <td>1</td>\n",
       "    </tr>\n",
       "  </tbody>\n",
       "</table>\n",
       "<p>3 rows × 22 columns</p>\n",
       "</div>"
      ],
      "text/plain": [
       "   index  brand                                              Model  Price  \\\n",
       "0      1  tecno  Tecno Megabook T1 Laptop (11th Gen Core i3/ 8G...  23990   \n",
       "1      2  tecno  Tecno Megabook T1 Laptop (11th Gen Core i7/ 16...  35990   \n",
       "2      3     hp  HP Victus 15-fb0157AX Gaming Laptop (AMD Ryzen...  51100   \n",
       "\n",
       "   Rating processor_brand processor_tier  num_cores  num_threads  ram_memory  \\\n",
       "0      63           intel        core i3          2            4           8   \n",
       "1      67           intel        core i7          4            8          16   \n",
       "2      73             amd        ryzen 5          6           12           8   \n",
       "\n",
       "   ... secondary_storage_type  secondary_storage_capacity gpu_brand  \\\n",
       "0  ...   No secondary storage                           0     intel   \n",
       "1  ...   No secondary storage                           0     intel   \n",
       "2  ...   No secondary storage                           0       amd   \n",
       "\n",
       "     gpu_type is_touch_screen display_size  resolution_width  \\\n",
       "0  integrated           False         15.6              1920   \n",
       "1  integrated           False         15.6              1920   \n",
       "2   dedicated           False         15.6              1920   \n",
       "\n",
       "   resolution_height       OS  year_of_warranty  \n",
       "0               1080  windows                 1  \n",
       "1               1080  windows                 1  \n",
       "2               1080  windows                 1  \n",
       "\n",
       "[3 rows x 22 columns]"
      ]
     },
     "execution_count": 2,
     "metadata": {},
     "output_type": "execute_result"
    }
   ],
   "source": [
    "df = pd.read_csv(\"/kaggle/input/brand-laptops-dataset/laptops.csv\")\n",
    "\n",
    "# return the first three rows\n",
    "df.head(3)"
   ]
  },
  {
   "cell_type": "markdown",
   "id": "82c1a58e",
   "metadata": {
    "papermill": {
     "duration": 0.008916,
     "end_time": "2024-03-10T15:22:29.426674",
     "exception": false,
     "start_time": "2024-03-10T15:22:29.417758",
     "status": "completed"
    },
    "tags": []
   },
   "source": [
    "# EDA for Data Modeling"
   ]
  },
  {
   "cell_type": "markdown",
   "id": "8ef79354",
   "metadata": {
    "papermill": {
     "duration": 0.008603,
     "end_time": "2024-03-10T15:22:29.444503",
     "exception": false,
     "start_time": "2024-03-10T15:22:29.435900",
     "status": "completed"
    },
    "tags": []
   },
   "source": [
    "## Data Understanding"
   ]
  },
  {
   "cell_type": "code",
   "execution_count": 3,
   "id": "b90b9863",
   "metadata": {
    "execution": {
     "iopub.execute_input": "2024-03-10T15:22:29.464951Z",
     "iopub.status.busy": "2024-03-10T15:22:29.464524Z",
     "iopub.status.idle": "2024-03-10T15:22:29.472416Z",
     "shell.execute_reply": "2024-03-10T15:22:29.470994Z"
    },
    "papermill": {
     "duration": 0.020821,
     "end_time": "2024-03-10T15:22:29.474968",
     "exception": false,
     "start_time": "2024-03-10T15:22:29.454147",
     "status": "completed"
    },
    "tags": []
   },
   "outputs": [
    {
     "data": {
      "text/plain": [
       "(991, 22)"
      ]
     },
     "execution_count": 3,
     "metadata": {},
     "output_type": "execute_result"
    }
   ],
   "source": [
    "df.shape"
   ]
  },
  {
   "cell_type": "code",
   "execution_count": 4,
   "id": "51bf4bb9",
   "metadata": {
    "execution": {
     "iopub.execute_input": "2024-03-10T15:22:29.496111Z",
     "iopub.status.busy": "2024-03-10T15:22:29.494602Z",
     "iopub.status.idle": "2024-03-10T15:22:29.524033Z",
     "shell.execute_reply": "2024-03-10T15:22:29.521764Z"
    },
    "papermill": {
     "duration": 0.043386,
     "end_time": "2024-03-10T15:22:29.527329",
     "exception": false,
     "start_time": "2024-03-10T15:22:29.483943",
     "status": "completed"
    },
    "tags": []
   },
   "outputs": [
    {
     "name": "stdout",
     "output_type": "stream",
     "text": [
      "<class 'pandas.core.frame.DataFrame'>\n",
      "RangeIndex: 991 entries, 0 to 990\n",
      "Data columns (total 22 columns):\n",
      " #   Column                      Non-Null Count  Dtype  \n",
      "---  ------                      --------------  -----  \n",
      " 0   index                       991 non-null    int64  \n",
      " 1   brand                       991 non-null    object \n",
      " 2   Model                       991 non-null    object \n",
      " 3   Price                       991 non-null    int64  \n",
      " 4   Rating                      991 non-null    int64  \n",
      " 5   processor_brand             991 non-null    object \n",
      " 6   processor_tier              991 non-null    object \n",
      " 7   num_cores                   991 non-null    int64  \n",
      " 8   num_threads                 991 non-null    int64  \n",
      " 9   ram_memory                  991 non-null    int64  \n",
      " 10  primary_storage_type        991 non-null    object \n",
      " 11  primary_storage_capacity    991 non-null    int64  \n",
      " 12  secondary_storage_type      991 non-null    object \n",
      " 13  secondary_storage_capacity  991 non-null    int64  \n",
      " 14  gpu_brand                   991 non-null    object \n",
      " 15  gpu_type                    991 non-null    object \n",
      " 16  is_touch_screen             991 non-null    bool   \n",
      " 17  display_size                991 non-null    float64\n",
      " 18  resolution_width            991 non-null    int64  \n",
      " 19  resolution_height           991 non-null    int64  \n",
      " 20  OS                          991 non-null    object \n",
      " 21  year_of_warranty            991 non-null    object \n",
      "dtypes: bool(1), float64(1), int64(10), object(10)\n",
      "memory usage: 163.7+ KB\n"
     ]
    }
   ],
   "source": [
    "df.info()"
   ]
  },
  {
   "cell_type": "code",
   "execution_count": 5,
   "id": "5aefa3b6",
   "metadata": {
    "execution": {
     "iopub.execute_input": "2024-03-10T15:22:29.547939Z",
     "iopub.status.busy": "2024-03-10T15:22:29.547356Z",
     "iopub.status.idle": "2024-03-10T15:22:29.560001Z",
     "shell.execute_reply": "2024-03-10T15:22:29.558429Z"
    },
    "papermill": {
     "duration": 0.025388,
     "end_time": "2024-03-10T15:22:29.562180",
     "exception": false,
     "start_time": "2024-03-10T15:22:29.536792",
     "status": "completed"
    },
    "tags": []
   },
   "outputs": [
    {
     "name": "stdout",
     "output_type": "stream",
     "text": [
      "Number of duplicated data: 0\n"
     ]
    }
   ],
   "source": [
    "print(\"Number of duplicated data:\", df.duplicated().sum())"
   ]
  },
  {
   "cell_type": "code",
   "execution_count": 6,
   "id": "edaa5810",
   "metadata": {
    "execution": {
     "iopub.execute_input": "2024-03-10T15:22:29.582774Z",
     "iopub.status.busy": "2024-03-10T15:22:29.582282Z",
     "iopub.status.idle": "2024-03-10T15:22:29.594568Z",
     "shell.execute_reply": "2024-03-10T15:22:29.593233Z"
    },
    "papermill": {
     "duration": 0.026007,
     "end_time": "2024-03-10T15:22:29.597357",
     "exception": false,
     "start_time": "2024-03-10T15:22:29.571350",
     "status": "completed"
    },
    "tags": []
   },
   "outputs": [],
   "source": [
    "# make the \"index\" and \"Model\" columns as indexes\n",
    "df.set_index([\"index\", \"Model\"], inplace=True)"
   ]
  },
  {
   "cell_type": "code",
   "execution_count": 7,
   "id": "51c89229",
   "metadata": {
    "execution": {
     "iopub.execute_input": "2024-03-10T15:22:29.620373Z",
     "iopub.status.busy": "2024-03-10T15:22:29.619909Z",
     "iopub.status.idle": "2024-03-10T15:22:29.636038Z",
     "shell.execute_reply": "2024-03-10T15:22:29.635008Z"
    },
    "papermill": {
     "duration": 0.031565,
     "end_time": "2024-03-10T15:22:29.638745",
     "exception": false,
     "start_time": "2024-03-10T15:22:29.607180",
     "status": "completed"
    },
    "tags": []
   },
   "outputs": [],
   "source": [
    "# list of columns to convert to lowercase\n",
    "columns_to_convert = df.select_dtypes(\"object\").columns \n",
    "\n",
    "# convert the values\n",
    "for column in columns_to_convert:\n",
    "    if column in df.columns:\n",
    "        df[column] = df[column].apply(lambda x: x.lower())"
   ]
  },
  {
   "cell_type": "code",
   "execution_count": 8,
   "id": "8f816eb9",
   "metadata": {
    "execution": {
     "iopub.execute_input": "2024-03-10T15:22:29.660032Z",
     "iopub.status.busy": "2024-03-10T15:22:29.659498Z",
     "iopub.status.idle": "2024-03-10T15:22:29.668492Z",
     "shell.execute_reply": "2024-03-10T15:22:29.667258Z"
    },
    "papermill": {
     "duration": 0.022751,
     "end_time": "2024-03-10T15:22:29.671066",
     "exception": false,
     "start_time": "2024-03-10T15:22:29.648315",
     "status": "completed"
    },
    "tags": []
   },
   "outputs": [
    {
     "data": {
      "text/plain": [
       "array(['tecno', 'hp', 'acer', 'lenovo', 'apple', 'infinix', 'asus',\n",
       "       'dell', 'samsung', 'msi', 'wings', 'ultimus', 'primebook', 'iball',\n",
       "       'zebronics', 'chuwi', 'gigabyte', 'jio', 'honor', 'realme',\n",
       "       'avita', 'microsoft', 'fujitsu', 'lg', 'walker', 'axl'],\n",
       "      dtype=object)"
      ]
     },
     "execution_count": 8,
     "metadata": {},
     "output_type": "execute_result"
    }
   ],
   "source": [
    "# find unique brand name\n",
    "df[\"brand\"].unique()"
   ]
  },
  {
   "cell_type": "code",
   "execution_count": 9,
   "id": "ed2062fd",
   "metadata": {
    "execution": {
     "iopub.execute_input": "2024-03-10T15:22:29.692935Z",
     "iopub.status.busy": "2024-03-10T15:22:29.692363Z",
     "iopub.status.idle": "2024-03-10T15:22:29.702307Z",
     "shell.execute_reply": "2024-03-10T15:22:29.700883Z"
    },
    "papermill": {
     "duration": 0.024375,
     "end_time": "2024-03-10T15:22:29.705204",
     "exception": false,
     "start_time": "2024-03-10T15:22:29.680829",
     "status": "completed"
    },
    "tags": []
   },
   "outputs": [
    {
     "data": {
      "text/plain": [
       "array(['ssd', 'hdd'], dtype=object)"
      ]
     },
     "execution_count": 9,
     "metadata": {},
     "output_type": "execute_result"
    }
   ],
   "source": [
    "# find unique storage type name\n",
    "df[\"primary_storage_type\"].unique()"
   ]
  },
  {
   "cell_type": "code",
   "execution_count": 10,
   "id": "ec8a97fb",
   "metadata": {
    "execution": {
     "iopub.execute_input": "2024-03-10T15:22:29.727181Z",
     "iopub.status.busy": "2024-03-10T15:22:29.726721Z",
     "iopub.status.idle": "2024-03-10T15:22:29.734418Z",
     "shell.execute_reply": "2024-03-10T15:22:29.732657Z"
    },
    "papermill": {
     "duration": 0.021906,
     "end_time": "2024-03-10T15:22:29.737024",
     "exception": false,
     "start_time": "2024-03-10T15:22:29.715118",
     "status": "completed"
    },
    "tags": []
   },
   "outputs": [],
   "source": [
    "# converte indian rupees to indonesian rupiah\n",
    "df[\"Price\"] = df[\"Price\"] * 187.8"
   ]
  },
  {
   "cell_type": "markdown",
   "id": "cec2544b",
   "metadata": {
    "papermill": {
     "duration": 0.009761,
     "end_time": "2024-03-10T15:22:29.756925",
     "exception": false,
     "start_time": "2024-03-10T15:22:29.747164",
     "status": "completed"
    },
    "tags": []
   },
   "source": [
    "## Data Preprocessing"
   ]
  },
  {
   "cell_type": "code",
   "execution_count": 11,
   "id": "4a755888",
   "metadata": {
    "execution": {
     "iopub.execute_input": "2024-03-10T15:22:29.778982Z",
     "iopub.status.busy": "2024-03-10T15:22:29.778458Z",
     "iopub.status.idle": "2024-03-10T15:22:29.819484Z",
     "shell.execute_reply": "2024-03-10T15:22:29.818034Z"
    },
    "papermill": {
     "duration": 0.05594,
     "end_time": "2024-03-10T15:22:29.822818",
     "exception": false,
     "start_time": "2024-03-10T15:22:29.766878",
     "status": "completed"
    },
    "tags": []
   },
   "outputs": [],
   "source": [
    "# selecting columns\n",
    "numeric_columns = df.select_dtypes(\"number\").columns\n",
    "categorical_columns = df.select_dtypes(exclude=[\"number\"]).columns\n",
    "\n",
    "# transforming columns\n",
    "ct = ColumnTransformer([\n",
    "    (\"scaler\", StandardScaler(), numeric_columns),\n",
    "    (\"encoder\", OneHotEncoder(), categorical_columns)\n",
    "])\n",
    "\n",
    "# pipeline\n",
    "pipeline = Pipeline([\n",
    "    (\"preprocessor\", ct)\n",
    "])\n",
    "\n",
    "# transforming the data\n",
    "df_new = pipeline.fit_transform(df)"
   ]
  },
  {
   "cell_type": "code",
   "execution_count": 12,
   "id": "374288f7",
   "metadata": {
    "execution": {
     "iopub.execute_input": "2024-03-10T15:22:29.845557Z",
     "iopub.status.busy": "2024-03-10T15:22:29.845084Z",
     "iopub.status.idle": "2024-03-10T15:22:29.853512Z",
     "shell.execute_reply": "2024-03-10T15:22:29.852101Z"
    },
    "papermill": {
     "duration": 0.023598,
     "end_time": "2024-03-10T15:22:29.856389",
     "exception": false,
     "start_time": "2024-03-10T15:22:29.832791",
     "status": "completed"
    },
    "tags": []
   },
   "outputs": [
    {
     "data": {
      "text/plain": [
       "(991, 80)"
      ]
     },
     "execution_count": 12,
     "metadata": {},
     "output_type": "execute_result"
    }
   ],
   "source": [
    "df_new.shape"
   ]
  },
  {
   "cell_type": "markdown",
   "id": "057bdce4",
   "metadata": {
    "papermill": {
     "duration": 0.009772,
     "end_time": "2024-03-10T15:22:29.876162",
     "exception": false,
     "start_time": "2024-03-10T15:22:29.866390",
     "status": "completed"
    },
    "tags": []
   },
   "source": [
    "# Clustering"
   ]
  },
  {
   "cell_type": "code",
   "execution_count": 13,
   "id": "5e95c98f",
   "metadata": {
    "execution": {
     "iopub.execute_input": "2024-03-10T15:22:29.898582Z",
     "iopub.status.busy": "2024-03-10T15:22:29.898116Z",
     "iopub.status.idle": "2024-03-10T15:22:34.717821Z",
     "shell.execute_reply": "2024-03-10T15:22:34.716217Z"
    },
    "papermill": {
     "duration": 4.834981,
     "end_time": "2024-03-10T15:22:34.721173",
     "exception": false,
     "start_time": "2024-03-10T15:22:29.886192",
     "status": "completed"
    },
    "tags": []
   },
   "outputs": [
    {
     "data": {
      "image/png": "[encoded data removed]",
      "text/plain": [
       "<Figure size 800x600 with 1 Axes>"
      ]
     },
     "metadata": {},
     "output_type": "display_data"
    }
   ],
   "source": [
    "# cost value\n",
    "cost = []\n",
    "for i in range(2, 20):\n",
    "    kmeans = KMeans(n_clusters=i, random_state=2024)\n",
    "    kmeans.fit_predict(df_new)\n",
    "    cost.append(kmeans.inertia_)\n",
    "    \n",
    "# plotting the elbow method graph\n",
    "plt.figure(figsize=(8, 6))\n",
    "plt.plot(range(2, 20), cost, marker='o', linestyle='--')\n",
    "plt.title('Elbow Method')\n",
    "plt.xlabel('Number of Clusters')\n",
    "plt.ylabel('Cost')\n",
    "plt.xticks(range(2, 20))\n",
    "plt.grid(True)\n",
    "plt.show()"
   ]
  },
  {
   "cell_type": "code",
   "execution_count": 14,
   "id": "4c14c568",
   "metadata": {
    "execution": {
     "iopub.execute_input": "2024-03-10T15:22:34.746337Z",
     "iopub.status.busy": "2024-03-10T15:22:34.745868Z",
     "iopub.status.idle": "2024-03-10T15:22:35.010407Z",
     "shell.execute_reply": "2024-03-10T15:22:35.009241Z"
    },
    "papermill": {
     "duration": 0.281128,
     "end_time": "2024-03-10T15:22:35.013735",
     "exception": false,
     "start_time": "2024-03-10T15:22:34.732607",
     "status": "completed"
    },
    "tags": []
   },
   "outputs": [],
   "source": [
    "# data modeling\n",
    "kmeans_model = KMeans(n_clusters=9, random_state=2024)\n",
    "clusters = kmeans_model.fit_predict(df_new)\n",
    "df[\"clusters\"] = clusters\n",
    "\n",
    "# mapping the clusters name\n",
    "df[\"segmentation\"] = df[\"clusters\"].map({\n",
    "    0: \"Cluster A\",\n",
    "    1: \"Cluster B\",\n",
    "    2: \"Cluster C\",\n",
    "    3: \"Cluster D\",\n",
    "    4: \"Cluster E\",\n",
    "    5: \"Cluster F\",\n",
    "    6: \"Cluster G\",\n",
    "    7: \"Cluster H\",\n",
    "    8: \"Cluster I\",\n",
    "    9: \"Cluster J\",\n",
    "})"
   ]
  },
  {
   "cell_type": "code",
   "execution_count": 15,
   "id": "860ac129",
   "metadata": {
    "execution": {
     "iopub.execute_input": "2024-03-10T15:22:35.040631Z",
     "iopub.status.busy": "2024-03-10T15:22:35.040134Z",
     "iopub.status.idle": "2024-03-10T15:22:35.070103Z",
     "shell.execute_reply": "2024-03-10T15:22:35.068757Z"
    },
    "papermill": {
     "duration": 0.046428,
     "end_time": "2024-03-10T15:22:35.073465",
     "exception": false,
     "start_time": "2024-03-10T15:22:35.027037",
     "status": "completed"
    },
    "tags": []
   },
   "outputs": [],
   "source": [
    "# save df to csv\n",
    "df.to_csv('laptop_clustered.csv', index=False)"
   ]
  },
  {
   "cell_type": "markdown",
   "id": "b5f0be47",
   "metadata": {
    "papermill": {
     "duration": 0.010981,
     "end_time": "2024-03-10T15:22:35.095320",
     "exception": false,
     "start_time": "2024-03-10T15:22:35.084339",
     "status": "completed"
    },
    "tags": []
   },
   "source": [
    "# PCA"
   ]
  },
  {
   "cell_type": "code",
   "execution_count": 16,
   "id": "04e84946",
   "metadata": {
    "execution": {
     "iopub.execute_input": "2024-03-10T15:22:35.119385Z",
     "iopub.status.busy": "2024-03-10T15:22:35.118879Z",
     "iopub.status.idle": "2024-03-10T15:22:35.159390Z",
     "shell.execute_reply": "2024-03-10T15:22:35.157268Z"
    },
    "papermill": {
     "duration": 0.058469,
     "end_time": "2024-03-10T15:22:35.164679",
     "exception": false,
     "start_time": "2024-03-10T15:22:35.106210",
     "status": "completed"
    },
    "tags": []
   },
   "outputs": [],
   "source": [
    "# convert sparse input data to dense array\n",
    "dense_array = df_new.toarray()\n",
    "\n",
    "# apply PCA on the dense array\n",
    "pca = PCA(n_components=2)\n",
    "df_pca = pca.fit_transform(dense_array)"
   ]
  },
  {
   "cell_type": "code",
   "execution_count": 17,
   "id": "c0c0dd1b",
   "metadata": {
    "execution": {
     "iopub.execute_input": "2024-03-10T15:22:35.251170Z",
     "iopub.status.busy": "2024-03-10T15:22:35.250156Z",
     "iopub.status.idle": "2024-03-10T15:22:35.264050Z",
     "shell.execute_reply": "2024-03-10T15:22:35.262386Z"
    },
    "papermill": {
     "duration": 0.0703,
     "end_time": "2024-03-10T15:22:35.270698",
     "exception": false,
     "start_time": "2024-03-10T15:22:35.200398",
     "status": "completed"
    },
    "tags": []
   },
   "outputs": [],
   "source": [
    "# create new df\n",
    "df = pd.DataFrame({\n",
    "    \"x\": df_pca[:,0], \n",
    "    \"y\": df_pca[:,1], \n",
    "    \"label\": df[\"segmentation\"]\n",
    "})"
   ]
  },
  {
   "cell_type": "code",
   "execution_count": 18,
   "id": "48e0d66e",
   "metadata": {
    "execution": {
     "iopub.execute_input": "2024-03-10T15:22:35.296048Z",
     "iopub.status.busy": "2024-03-10T15:22:35.295143Z",
     "iopub.status.idle": "2024-03-10T15:22:35.300566Z",
     "shell.execute_reply": "2024-03-10T15:22:35.299585Z"
    },
    "papermill": {
     "duration": 0.021082,
     "end_time": "2024-03-10T15:22:35.303515",
     "exception": false,
     "start_time": "2024-03-10T15:22:35.282433",
     "status": "completed"
    },
    "tags": []
   },
   "outputs": [],
   "source": [
    "# grouping by label\n",
    "groups = df.groupby(\"label\")"
   ]
  },
  {
   "cell_type": "code",
   "execution_count": 19,
   "id": "5a40f7fa",
   "metadata": {
    "execution": {
     "iopub.execute_input": "2024-03-10T15:22:35.328318Z",
     "iopub.status.busy": "2024-03-10T15:22:35.327561Z",
     "iopub.status.idle": "2024-03-10T15:22:35.865633Z",
     "shell.execute_reply": "2024-03-10T15:22:35.864714Z"
    },
    "papermill": {
     "duration": 0.553333,
     "end_time": "2024-03-10T15:22:35.868200",
     "exception": false,
     "start_time": "2024-03-10T15:22:35.314867",
     "status": "completed"
    },
    "tags": []
   },
   "outputs": [
    {
     "data": {
      "image/png": "[encoded data removed]",
      "text/plain": [
       "<Figure size 2000x1300 with 1 Axes>"
      ]
     },
     "metadata": {},
     "output_type": "display_data"
    }
   ],
   "source": [
    "# color mapping for each cluster\n",
    "colors = {\n",
    "    \"Cluster A\": \"red\",\n",
    "    \"Cluster B\": \"blue\",\n",
    "    \"Cluster C\": \"green\",\n",
    "    \"Cluster D\": \"orange\",\n",
    "    \"Cluster E\": \"purple\",\n",
    "    \"Cluster F\": \"cyan\",\n",
    "    \"Cluster G\": \"magenta\",\n",
    "    \"Cluster H\": \"yellow\",\n",
    "    \"Cluster I\": \"brown\",\n",
    "    \"Cluster J\": \"black\"\n",
    "}\n",
    "\n",
    "\n",
    "fig, ax = plt.subplots(figsize=(20, 13)) \n",
    "\n",
    "for name, group in groups:\n",
    "    ax.plot(group.x, group.y, marker='o', linestyle='', ms=5,\n",
    "            color=colors[name],label=name, mec='none')\n",
    "    ax.set_aspect('auto')\n",
    "    ax.tick_params(axis='x', which='both', bottom=False, top=False, labelbottom=False)\n",
    "    ax.tick_params(axis='y', which='both', left=False, right=False, labelleft=False)\n",
    "    \n",
    "ax.legend()\n",
    "ax.set_xticklabels([])\n",
    "ax.set_yticklabels([])\n",
    "ax.set_title(\"Laptop Clusters in PCA 2D\")\n",
    "plt.show()"
   ]
  },
  {
   "cell_type": "markdown",
   "id": "653a0cf0",
   "metadata": {
    "papermill": {
     "duration": 0.012452,
     "end_time": "2024-03-10T15:22:35.892837",
     "exception": false,
     "start_time": "2024-03-10T15:22:35.880385",
     "status": "completed"
    },
    "tags": []
   },
   "source": [
    "__Credit:__ Saba Naseem Butt for the PCA visualization documentation"
   ]
  }
 ],
 "metadata": {
  "kaggle": {
   "accelerator": "none",
   "dataSources": [
    {
     "datasetId": 4567907,
     "sourceId": 7801134,
     "sourceType": "datasetVersion"
    }
   ],
   "dockerImageVersionId": 30664,
   "isGpuEnabled": false,
   "isInternetEnabled": true,
   "language": "python",
   "sourceType": "notebook"
  },
  "kernelspec": {
   "display_name": "Python 3",
   "language": "python",
   "name": "python3"
  },
  "language_info": {
   "codemirror_mode": {
    "name": "ipython",
    "version": 3
   },
   "file_extension": ".py",
   "mimetype": "text/x-python",
   "name": "python",
   "nbconvert_exporter": "python",
   "pygments_lexer": "ipython3",
   "version": "3.10.13"
  },
  "papermill": {
   "default_parameters": {},
   "duration": 14.170402,
   "end_time": "2024-03-10T15:22:36.830240",
   "environment_variables": {},
   "exception": null,
   "input_path": "__notebook__.ipynb",
   "output_path": "__notebook__.ipynb",
   "parameters": {},
   "start_time": "2024-03-10T15:22:22.659838",
   "version": "2.5.0"
  }
 },
 "nbformat": 4,
 "nbformat_minor": 5
}
