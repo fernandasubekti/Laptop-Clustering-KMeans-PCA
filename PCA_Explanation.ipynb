{
  "cells": [
    {
      "cell_type": "markdown",
      "id": "e8afe8e4-1811-4499-9697-4e625607c163",
      "metadata": {
        "id": "e8afe8e4-1811-4499-9697-4e625607c163"
      },
      "source": [
        "# Basic Explanation\n",
        "\n",
        "Principal Component Analysis (PCA) stands as a pivotal technique in the realm of data analysis, serving the crucial purpose of reducing the dimensionality of data sets, thereby alleviating the burden posed by high dimensionality. The process entails a series of meticulous steps:\n",
        "1. Firstly, the data is normalized to ensure that the dataset's mean is centered at zero, setting a foundational stage for subsequent analyses.\n",
        "\n",
        "2. Following normalization, the standardized data is attained by dividing each normalized value by its standard deviation. This crucial step aims to ensure that the covariance between each pair of variables equals one, hence termed as standardizatio3. n.\n",
        "\n",
        "3. Next, the quest for eigenvalues and eigenvectors commences, unveiling the intrinsic structure within the dataset. The eigenvector with the highest norm emerges as the principal component, embodying the essence of the dataset's variability. The principal subspaces, in turn, represent the space along these eigenvect4. ors.\n",
        "\n",
        "4. Lastly, every data point undergoes projection onto the principal subspaces, effectively encapsulating the essence of the original dataset in a reduced dimensionality framework.\n",
        "\n",
        "It is worth noting that PCA epitomizes a form of clustering methodology within the domain of unsupervised learning, serving as a cornerstone in deciphering complex data structures."
      ]
    },
    {
      "cell_type": "code",
      "execution_count": null,
      "id": "0fa5cab1-505e-438f-81de-d726c51f592b",
      "metadata": {
        "id": "0fa5cab1-505e-438f-81de-d726c51f592b"
      },
      "outputs": [],
      "source": [
        "import numpy as np\n",
        "import matplotlib.pyplot as plt\n",
        "from sklearn.preprocessing import StandardScaler\n",
        "from sklearn.decomposition import PCA"
      ]
    },
    {
      "cell_type": "code",
      "execution_count": null,
      "id": "700e6e17-0acc-4bec-90a8-7da83d41ff51",
      "metadata": {
        "id": "700e6e17-0acc-4bec-90a8-7da83d41ff51"
      },
      "outputs": [],
      "source": [
        "# make it reproducible\n",
        "np.random.seed(2024)\n",
        "\n",
        "# define the desired range for random data\n",
        "min_value = 10\n",
        "max_value = 20\n",
        "\n",
        "# generate random data within the specified range\n",
        "data = np.random.uniform(min_value, max_value, size=(100, 5))\n",
        "\n",
        "# calculate the mean of each column\n",
        "means = np.mean(data, axis=0)\n",
        "\n",
        "# define the desired non-zero mean for each column\n",
        "desired_means = np.array([15.0, 16.0, 17.0, 18.0, 19.0])\n",
        "\n",
        "# calculate the adjustment needed for each column\n",
        "adjustments = desired_means - means\n",
        "\n",
        "# add adjustments to the data\n",
        "data_with_nonzero_mean = data + adjustments\n",
        "data = data_with_nonzero_mean"
      ]
    },
    {
      "cell_type": "code",
      "source": [
        "# return the first five rows\n",
        "data[:5]"
      ],
      "metadata": {
        "colab": {
          "base_uri": "https://localhost:8080/"
        },
        "id": "_D7LUapKys4s",
        "outputId": "6145cd29-770d-4f4a-ba1d-935b69bd86e8"
      },
      "id": "_D7LUapKys4s",
      "execution_count": null,
      "outputs": [
        {
          "output_type": "execute_result",
          "data": {
            "text/plain": [
              "array([[16.06367555, 17.77246269, 13.867177  , 13.58605659, 15.75835698],\n",
              "       [11.24415911, 18.05377665, 18.77966263, 17.88642799, 18.1911257 ],\n",
              "       [10.37459984, 18.30735858, 18.01014279, 22.76574671, 20.35185393],\n",
              "       [16.24982655, 15.27288836, 14.23919903, 19.84971392, 21.06583338],\n",
              "       [12.76348674, 11.73679675, 21.59475482, 15.66564382, 16.52981865]])"
            ]
          },
          "metadata": {},
          "execution_count": 3
        }
      ]
    },
    {
      "cell_type": "code",
      "source": [
        "# data shape\n",
        "data.shape"
      ],
      "metadata": {
        "colab": {
          "base_uri": "https://localhost:8080/"
        },
        "id": "XA0Ilohiy4sH",
        "outputId": "a2300aaa-0c85-42d4-ef41-fc4e7db39204"
      },
      "id": "XA0Ilohiy4sH",
      "execution_count": null,
      "outputs": [
        {
          "output_type": "execute_result",
          "data": {
            "text/plain": [
              "(100, 5)"
            ]
          },
          "metadata": {},
          "execution_count": 4
        }
      ]
    },
    {
      "cell_type": "code",
      "execution_count": null,
      "id": "75c1f239-2a37-48e3-8f44-d1b059882b3c",
      "metadata": {
        "id": "75c1f239-2a37-48e3-8f44-d1b059882b3c"
      },
      "outputs": [],
      "source": [
        "# standaridization\n",
        "scaler = StandardScaler()\n",
        "new_data = scaler.fit_transform(data)\n",
        "\n",
        "# PCA\n",
        "pca = PCA(n_components=2)\n",
        "\n",
        "# transforming data into two subspaces\n",
        "data_pca = pca.fit_transform(new_data)"
      ]
    },
    {
      "cell_type": "code",
      "execution_count": null,
      "id": "c31ea1d5-3851-411c-9419-e7b104671869",
      "metadata": {
        "colab": {
          "base_uri": "https://localhost:8080/",
          "height": 472
        },
        "id": "c31ea1d5-3851-411c-9419-e7b104671869",
        "outputId": "4d06f594-d523-46ea-f1dd-b91b1827edb8"
      },
      "outputs": [
        {
          "output_type": "display_data",
          "data": {
            "text/plain": [
              "<Figure size 640x480 with 1 Axes>"
            ],
            "image/png": "[encoded data removed]"
          },
          "metadata": {}
        }
      ],
      "source": [
        "plt.scatter(data_pca[:,0], data_pca[:,1], s=15)\n",
        "plt.xlabel(\"PC1\")\n",
        "plt.ylabel(\"PC2\")\n",
        "plt.title(\"Principal Component Analysis (PCA)\")\n",
        "plt.show()"
      ]
    }
  ],
  "metadata": {
    "kernelspec": {
      "display_name": "Python 3 (ipykernel)",
      "language": "python",
      "name": "python3"
    },
    "language_info": {
      "codemirror_mode": {
        "name": "ipython",
        "version": 3
      },
      "file_extension": ".py",
      "mimetype": "text/x-python",
      "name": "python",
      "nbconvert_exporter": "python",
      "pygments_lexer": "ipython3",
      "version": "3.11.5"
    },
    "colab": {
      "provenance": []
    }
  },
  "nbformat": 4,
  "nbformat_minor": 5
}